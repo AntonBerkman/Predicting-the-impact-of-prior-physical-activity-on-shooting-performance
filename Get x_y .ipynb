{
 "cells": [
  {
   "cell_type": "code",
   "execution_count": 144,
   "metadata": {},
   "outputs": [
    {
     "name": "stdout",
     "output_type": "stream",
     "text": [
      "length of hit before anything 821\n"
     ]
    },
    {
     "ename": "IndexError",
     "evalue": "list assignment index out of range",
     "output_type": "error",
     "traceback": [
      "\u001b[1;31m---------------------------------------------------------------------------\u001b[0m",
      "\u001b[1;31mIndexError\u001b[0m                                Traceback (most recent call last)",
      "\u001b[1;32m<ipython-input-144-35d237ab67e6>\u001b[0m in \u001b[0;36m<module>\u001b[1;34m()\u001b[0m\n\u001b[0;32m     10\u001b[0m \u001b[1;32mfor\u001b[0m \u001b[0mix\u001b[0m \u001b[1;32min\u001b[0m \u001b[0mrange\u001b[0m\u001b[1;33m(\u001b[0m\u001b[1;36m0\u001b[0m\u001b[1;33m,\u001b[0m \u001b[0mlen\u001b[0m\u001b[1;33m(\u001b[0m\u001b[0mplexi\u001b[0m\u001b[1;33m)\u001b[0m\u001b[1;33m)\u001b[0m\u001b[1;33m:\u001b[0m\u001b[1;33m\u001b[0m\u001b[0m\n\u001b[0;32m     11\u001b[0m     \u001b[1;32mif\u001b[0m \u001b[0mplexi\u001b[0m\u001b[1;33m[\u001b[0m\u001b[0mix\u001b[0m\u001b[1;33m]\u001b[0m \u001b[1;33m==\u001b[0m \u001b[1;34m'plexi'\u001b[0m\u001b[1;33m:\u001b[0m\u001b[1;33m\u001b[0m\u001b[0m\n\u001b[1;32m---> 12\u001b[1;33m         \u001b[1;32mdel\u001b[0m \u001b[0mhitX\u001b[0m\u001b[1;33m[\u001b[0m\u001b[0mix\u001b[0m\u001b[1;33m]\u001b[0m\u001b[1;33m\u001b[0m\u001b[0m\n\u001b[0m\u001b[0;32m     13\u001b[0m         \u001b[1;32mdel\u001b[0m \u001b[0mhitY\u001b[0m\u001b[1;33m[\u001b[0m\u001b[0mix\u001b[0m\u001b[1;33m]\u001b[0m\u001b[1;33m\u001b[0m\u001b[0m\n\u001b[0;32m     14\u001b[0m \u001b[0mprint\u001b[0m\u001b[1;33m(\u001b[0m\u001b[1;34m\"how many plexi there was\"\u001b[0m\u001b[1;33m,\u001b[0m \u001b[0mx\u001b[0m\u001b[1;33m)\u001b[0m\u001b[1;33m\u001b[0m\u001b[0m\n",
      "\u001b[1;31mIndexError\u001b[0m: list assignment index out of range"
     ]
    }
   ],
   "source": [
    "import pandas as pd\n",
    "\n",
    "hit = pd.read_csv('Hit.csv') \n",
    "hitX = hit['ImpactPosX'].tolist()\n",
    "hitY = hit['ImpactPosY'].tolist()\n",
    "plexi = hit['ColliderName'].tolist()\n",
    "\n",
    "print(\"length of hit before anything\", len(hitX))\n",
    "x = 0\n",
    "for ix in range(0, len(plexi)):\n",
    "    if plexi[ix] == 'plexi':\n",
    "        del hitX[ix]\n",
    "        del hitY[ix]\n",
    "print(\"how many plexi there was\", x)   \n",
    "\n",
    "print(\"length of hit after deleting plexi\", len(hitY))\n",
    "del hitX[330:334]\n",
    "del hitY[330:334]\n",
    "\n",
    "cnt = 0\n",
    "for ixx in range(0, 14):\n",
    "        del hitX[cnt:cnt+4]\n",
    "        del hitY[cnt:cnt+4]\n",
    "        cnt += 30\n",
    "print(\"length of hit after deleting practise shots\",len(hitX))\n",
    "\n",
    "hitXdf = pd.DataFrame(hitX)\n",
    "hitYdf = pd.DataFrame(hitY)\n",
    "Hit_xy = pd.concat([hitXdf, hitYdf], axis=1, sort=False)\n",
    "with open('hitxy_test', 'w') as txt:\n",
    "    txt.write(str(Hit_xy))\n",
    "    \n"
   ]
  }
 ],
 "metadata": {
  "kernelspec": {
   "display_name": "Python 3",
   "language": "python",
   "name": "python3"
  },
  "language_info": {
   "codemirror_mode": {
    "name": "ipython",
    "version": 3
   },
   "file_extension": ".py",
   "mimetype": "text/x-python",
   "name": "python",
   "nbconvert_exporter": "python",
   "pygments_lexer": "ipython3",
   "version": "3.7.0"
  }
 },
 "nbformat": 4,
 "nbformat_minor": 2
}
